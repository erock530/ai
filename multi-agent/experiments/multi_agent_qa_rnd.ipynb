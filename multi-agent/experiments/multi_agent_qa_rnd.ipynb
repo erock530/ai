{
 "cells": [
  {
   "cell_type": "code",
   "execution_count": 1,
   "metadata": {},
   "outputs": [
    {
     "name": "stdout",
     "output_type": "stream",
     "text": [
      "def perimeter(diameter, height):\n",
      "    circumference = 3.14159 * diameter\n",
      "    return 2 * circumference + 2 * height\n"
     ]
    }
   ],
   "source": [
    "import openai\n",
    "from dotenv import load_dotenv\n",
    "import os\n",
    "\n",
    "load_dotenv()  # take environment variables from .env.\n",
    "\n",
    "api_key = os.getenv(\"OPENAI_API_KEY\")\n",
    "\n",
    "client = openai.OpenAI(api_key=api_key)\n",
    "\n",
    "task = \"Write a python function to find the perimeter of a cylinder. Start with 'def perimeter(diameter,height):'\"\n",
    "unit_test = [\n",
    "        \"assert perimeter(2,4) == 12\",\n",
    "        \"assert perimeter(1,2) == 6\",\n",
    "        \"assert perimeter(3,1) == 8\"\n",
    "        ]\n",
    "\n",
    "response = client.chat.completions.create(\n",
    "            model=\"gpt-4o-mini-2024-07-18\",\n",
    "            messages=[\n",
    "                {\"role\": \"system\", \"content\": \"You are solving algorithmic problems in python. With given task and function name, write the function to solve the task. Do not add anything else - no comments. You can use only defualt python libraries. Do not import anything else!!!\"},\n",
    "                {\"role\": \"user\", \"content\": task}\n",
    "            ]\n",
    "        )\n",
    "\n",
    "print(response.choices[0].message.content)"
   ]
  },
  {
   "cell_type": "code",
   "execution_count": 2,
   "metadata": {},
   "outputs": [],
   "source": [
    "import openai\n",
    "from dotenv import load_dotenv\n",
    "import os\n",
    "\n",
    "load_dotenv()  # take environment variables from .env.\n",
    "\n",
    "api_key = os.getenv(\"API_KEY\")\n",
    "\n",
    "client = openai.OpenAI(api_key=api_key)\n",
    "\n",
    "def qa(query):\n",
    "    response = client.chat.completions.create(\n",
    "                model=\"gpt-4o-mini-2024-07-18\",\n",
    "                messages=[\n",
    "                    {\"role\": \"system\", \"content\": \"Your name is Orion. You are a omniscient AI. You can answer any question.\"},\n",
    "                    {\"role\": \"user\", \"content\": query}\n",
    "                ]\n",
    "            )\n",
    "\n",
    "    return response.choices[0].message.content"
   ]
  },
  {
   "cell_type": "code",
   "execution_count": 18,
   "metadata": {},
   "outputs": [
    {
     "data": {
      "text/plain": [
       "'Finding fulfillment in life is a personal journey and can vary significantly from person to person. Based on your current circumstances, here are several strategies that could help you cultivate a deeper sense of fulfillment:\\n\\n1. **Explore Your Career Interests**: Since you’ve considered a transition to data science, take steps to explore this field further. Engage in online courses, attend workshops, or network with professionals in the industry to see if it resonates with you. The shift could provide not only professional growth but also personal satisfaction if it aligns with your interests.\\n\\n2. **Deepen Relationships**: Invest time in nurturing your relationships with your wife, friends, and even your dog. Consider scheduling regular activities with your wife or organizing get-togethers with friends. Strengthening these bonds can enhance your sense of community and belonging.\\n\\n3. **Engage in Rock Climbing**: Since you enjoy rock climbing, look for opportunities to expand this hobby. Join a climbing club, participate in competitions, or plan climbing trips. This could provide physical challenges and social interactions, both of which contribute to fulfillment.\\n\\n4. **Continuous Learning**: Lifelong learning can be incredibly fulfilling. Beyond your career, explore topics that fascinate you—whether they relate to technology, philosophy, art, or any other domain. This can help you grow personally and expand your worldview.\\n\\n5. **Balance Work and Life**: As a software engineer at a major tech company, work can be demanding. Ensure you maintain a healthy work-life balance. Allocate time for relaxation, hobbies, and exploring new interests outside of work.\\n\\n6. **Volunteer or Get Involved in Community**: Find ways to give back to the community or participate in local initiatives. Volunteering for causes that are important to you can provide a sense of purpose and fulfillment.\\n\\n7. **Mindfulness and Reflection**: Regularly practice mindfulness or reflection. Journaling your thoughts, setting goals, or meditating can help you stay attuned to what genuinely matters to you and guide your decisions.\\n\\n8. **Travel or Explore New Places**: If possible, explore new places, whether within Poland or internationally. Traveling can be enlightening and invigorating, offering fresh perspectives and experiences.\\n\\n9. **Set Goals and Challenges**: Identify what you would like to accomplish, both personally and professionally. Setting specific, achievable goals can give your life direction and a sense of achievement.\\n\\n10. **Seek Professional Guidance**: If you find it challenging to navigate your feelings about fulfillment, consider speaking with a coach or therapist. They can provide insights and strategies tailored to your unique situation.\\n\\nUltimately, fulfillment is about aligning your actions and goals with your values and passions. Take the time to evaluate what matters most to you, and pursue activities and relationships that resonate with your authentic self.'"
      ]
     },
     "execution_count": 18,
     "metadata": {},
     "output_type": "execute_result"
    }
   ],
   "source": [
    "qa(\"What should I do to be fulfilled in life? I'm in my mid-twneties, live in poland, and I'm a software engineer at Google. I thought about persuing a data science career. I have a wife and a dog. Few friends. Rock climbing as a hobby. I'll repeate myself so you don't lose track. What should I do to be fulfilled in life?\")"
   ]
  }
 ],
 "metadata": {
  "kernelspec": {
   "display_name": "slack-bot",
   "language": "python",
   "name": "python3"
  },
  "language_info": {
   "codemirror_mode": {
    "name": "ipython",
    "version": 3
   },
   "file_extension": ".py",
   "mimetype": "text/x-python",
   "name": "python",
   "nbconvert_exporter": "python",
   "pygments_lexer": "ipython3",
   "version": "3.11.9"
  }
 },
 "nbformat": 4,
 "nbformat_minor": 2
}
